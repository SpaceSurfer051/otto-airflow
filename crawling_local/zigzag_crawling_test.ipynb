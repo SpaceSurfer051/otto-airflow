{
 "cells": [
  {
   "cell_type": "code",
   "execution_count": 1,
   "metadata": {},
   "outputs": [],
   "source": [
    "from selenium import webdriver\n",
    "from selenium.webdriver.common.by import By\n",
    "from selenium.webdriver.chrome.service import Service\n",
    "from selenium.webdriver.support.ui import WebDriverWait\n",
    "from selenium.webdriver.support import expected_conditions as EC\n",
    "from selenium.common.exceptions import NoSuchElementException, TimeoutException\n",
    "from webdriver_manager.chrome import ChromeDriverManager\n",
    "from selenium.webdriver.common.keys import Keys\n",
    "from selenium.webdriver.chrome.options import Options\n",
    "from selenium.webdriver import ActionChains\n",
    "\n",
    "import time\n",
    "import pandas as pd"
   ]
  },
  {
   "cell_type": "markdown",
   "metadata": {},
   "source": [
    "# URL 분석\n",
    "- 카테고리 페이지는 `middle_category_id`라는 인자를 통해 결정된다.\n",
    "    - [상의](https://zigzag.kr/categories/-1?title=%EC%9D%98%EB%A5%98&category_id=-1&middle_category_id=474): `474`\n",
    "    - [하의 (팬츠)](https://zigzag.kr/categories/-1?title=%EC%9D%98%EB%A5%98&category_id=-1&middle_category_id=547): `547`\n",
    "- 추후 카테고리가 추가될 때의 편의성을 위해, `dict`에 카테고리 아이디를 담아 넣는다.\n",
    "    - 필요하다면, 이를 config 파일로 빼내기\n",
    "- `리뷰많은순`으로 정렬 순서를 바꿀 필요가 있는데, 이는 맨 뒤에 `sort` 인자에 `201`을 넣어주면 해결된다."
   ]
  },
  {
   "cell_type": "code",
   "execution_count": 7,
   "metadata": {},
   "outputs": [
    {
     "name": "stdout",
     "output_type": "stream",
     "text": [
      "상의 : https://zigzag.kr/categories/-1?title=%EC%9D%98%EB%A5%98&category_id=-1&middle_category_id=474&sort=201\n",
      "하의 : https://zigzag.kr/categories/-1?title=%EC%9D%98%EB%A5%98&category_id=-1&middle_category_id=547&sort=201\n"
     ]
    }
   ],
   "source": [
    "zigzag_url = \"https://zigzag.kr/categories/-1?title=%EC%9D%98%EB%A5%98&category_id=-1&middle_category_id={id}&sort=201\"\n",
    "id_dict = {\n",
    "    '상의' : '474',\n",
    "    '하의' : '547'\n",
    "}\n",
    "\n",
    "for category, id in id_dict.items():\n",
    "    print(category, \":\", zigzag_url.format(id=id))"
   ]
  },
  {
   "cell_type": "markdown",
   "metadata": {},
   "source": [
    "# 크롤링 순서\n",
    "~~1. 정렬 순서를 `리뷰많은순`으로 변경한다.~~\n",
    "    - URL로 정렬 방식 변경 가능\n",
    "~~2. 상품 링크를 원하는 수량만큼 불러온다. (테스트의 경우 시간 문제로 10개만)~~\n",
    "3. 링크에 들어간다.\n",
    "4. 상품과 관련된 데이터 크롤링\n",
    "    - 상품 이름\n",
    "    - 상품 가격 (할인 제외가격)\n",
    "    - 카테고리 (`id_dict`의 key)\n",
    "    - 이미지 url (한장)\n",
    "    - 상세설명 (우선 스킵)\n",
    "    - 사이즈 정보 (리스트로)\n",
    "5. 상품 리뷰와 관련된 데이터 크롤링\n",
    "    - 리뷰아이디\n",
    "    - 성별, 키, 몸무게\n",
    "    - 구매 관련 정보\n",
    "    - 핏 관련 정보\n",
    "    - 기타 후기\n"
   ]
  },
  {
   "cell_type": "markdown",
   "metadata": {},
   "source": [
    "## 상품 링크 불러오기"
   ]
  },
  {
   "cell_type": "code",
   "execution_count": 64,
   "metadata": {},
   "outputs": [],
   "source": [
    "def get_product_links(driver, url, max_num=2):\n",
    "    link_set = set()\n",
    "    link_list = []\n",
    "    wait = WebDriverWait(driver, 10)\n",
    "    driver.get(url)\n",
    "    xpath = '//*[@id=\"__next\"]/div[1]/div/main/section[2]/div/div/div/div/div[1]/div/div[{i}]/div/a'\n",
    "    i = 1\n",
    "    while len(link_set) < max_num:\n",
    "        try:\n",
    "            element = wait.until(EC.presence_of_element_located((By.XPATH, xpath.format(i=i))))\n",
    "            href = element.get_attribute('href')\n",
    "            if href not in link_set:\n",
    "                link_list.append(href)\n",
    "            link_set.add(href)\n",
    "            i += 1\n",
    "        except (NoSuchElementException, TimeoutException) as e:\n",
    "            print(e)\n",
    "            continue\n",
    "\n",
    "    return link_list"
   ]
  },
  {
   "cell_type": "code",
   "execution_count": 65,
   "metadata": {},
   "outputs": [
    {
     "name": "stdout",
     "output_type": "stream",
     "text": [
      "['https://zigzag.kr/catalog/products/112538672', 'https://zigzag.kr/catalog/products/106711935', 'https://zigzag.kr/catalog/products/100511186']\n",
      "\n",
      "['https://zigzag.kr/catalog/products/140751630', 'https://zigzag.kr/catalog/products/113041967', 'https://zigzag.kr/catalog/products/100341594']\n",
      "\n"
     ]
    }
   ],
   "source": [
    "## get_product_links test\n",
    "driver = webdriver.Chrome(service=Service(ChromeDriverManager().install()))\n",
    "for _, id in id_dict.items():\n",
    "    url = zigzag_url.format(id=id)\n",
    "    links = get_product_links(driver, url, 3)\n",
    "    print(links)\n",
    "    driver.implicitly_wait(1)\n",
    "    print()\n",
    "driver.close()"
   ]
  },
  {
   "cell_type": "markdown",
   "metadata": {},
   "source": [
    "## 링크 진입 후, 원하는 데이터 크롤링\n",
    "- XPATH 정리\n",
    "    - 상품 이름\n",
    "        - `//*[@id=\"__next\"]/div[1]/div/div/div[4]/h1`\n",
    "    - 상품 가격 (할인 제외가격)\n",
    "        - `//*[@id=\"__next\"]/div[1]/div/div/div[6]/div[1]/div/div[1]/div[2]`\n",
    "    - 카테고리 (`id_dict`의 key)\n",
    "    - 이미지 url (한장)\n",
    "        - `//*[@id=\"__next\"]/div[1]/div/div/div[1]/div[1]/div/div/div[1]/div[1]/div/div/picture/img`\n",
    "    - 상세설명 (우선 스킵)\n",
    "    - 사이즈 정보 (리스트로)\n",
    "        - 색상별로 사이즈가 다 달라서 고민이 필요\n",
    "    - 색상 정보"
   ]
  },
  {
   "cell_type": "code",
   "execution_count": 71,
   "metadata": {},
   "outputs": [],
   "source": [
    "## 우선은 이름, 가격, 이미지url만\n",
    "def extract_product_info(driver, url):\n",
    "    try:\n",
    "        driver.get(url)\n",
    "        # driver.implicitly_wait(5)\n",
    "        # name = driver.find_element(By.XPATH, '//*[@id=\"__next\"]/div[1]/div/div/div[4]/h1')\n",
    "        wait = WebDriverWait(driver, 10)\n",
    "        name = wait.until(EC.presence_of_element_located((By.CLASS_NAME, 'BODY_15 REGULAR css-1qjogoj e1wgb8lp0')))\n",
    "        # price = wait.until(EC.presence_of_element_located((\\\n",
    "        #     By.XPATH, '//*[@id=\"__next\"]/div[1]/div/div/div[6]/div[1]/div/div[1]/div[2]')))\n",
    "        # image_url = wait.until(EC.presence_of_element_located((\\\n",
    "        #     By.XPATH, '//*[@id=\"__next\"]/div[1]/div/div/div[1]/div[1]/div/div/div[1]/div[1]/div/div/picture/img')))\n",
    "\n",
    "        return {\n",
    "            'name': name.text,\n",
    "            # 'price': price.get_attribute('div'),\n",
    "            # 'image_url': image_url.get_attribute('')\n",
    "        }\n",
    "    except (NoSuchElementException, TimeoutError) as e:\n",
    "        print(e)\n",
    "    finally:\n",
    "        driver.close()"
   ]
  },
  {
   "cell_type": "code",
   "execution_count": 74,
   "metadata": {},
   "outputs": [
    {
     "name": "stdout",
     "output_type": "stream",
     "text": [
      "옵션\n",
      "[TT037] 보들쫀쫀 끈나시_단가라FREE 직진\n",
      "사이즈\n",
      "정사이즈예요\n",
      "퀄리티\n",
      "아주 만족해요\n",
      "색감\n",
      "화면과 비슷해요\n",
      "정보\n",
      "159cm39kg상의 44\n",
      "옵션\n",
      "핑크(민자)Free 직진\n",
      "사이즈\n",
      "정사이즈예요\n",
      "퀄리티\n",
      "아주 만족해요\n",
      "색감\n",
      "화면과 비슷해요\n",
      "정보\n",
      "163cm52kg상의 44\n",
      "옵션\n",
      "블랙(민자)Free 직진\n",
      "사이즈\n",
      "정사이즈예요\n",
      "퀄리티\n",
      "아주 만족해요\n",
      "색감\n",
      "화면과 비슷해요\n",
      "정보\n",
      "161cm63kg상의 66\n",
      "옵션\n",
      "[TT037] 보들쫀쫀 끈나시_단가라FREE 직진\n",
      "사이즈\n",
      "정사이즈예요\n",
      "퀄리티\n",
      "아주 만족해요\n",
      "색감\n",
      "화면과 비슷해요\n",
      "정보\n",
      "165cm53kg상의 55\n",
      "옵션\n",
      "[TT037] 보들쫀쫀 끈나시_단가라FREE 직진\n",
      "사이즈\n",
      "정사이즈예요\n",
      "퀄리티\n",
      "보통이에요\n",
      "색감\n",
      "화면과 비슷해요\n",
      "정보\n",
      "164cm53kg상의 55\n",
      "옵션\n",
      "[TT037] 보들쫀쫀 끈나시_단가라FREE 직진\n",
      "사이즈\n",
      "정사이즈예요\n",
      "퀄리티\n",
      "아주 만족해요\n",
      "색감\n",
      "화면과 비슷해요\n",
      "정보\n",
      "158cm54kg상의 55\n",
      "옵션\n",
      "[TT037] 보들쫀쫀 끈나시_화이트(골지)FREE 직진\n",
      "사이즈\n",
      "정사이즈예요\n",
      "퀄리티\n",
      "아주 만족해요\n",
      "색감\n",
      "화면과 비슷해요\n",
      "정보\n",
      "160cm54kg상의 66\n",
      "옵션\n",
      "[TT037] 보들쫀쫀 끈나시_단가라FREE 직진\n",
      "사이즈\n",
      "정사이즈예요\n",
      "퀄리티\n",
      "아주 만족해요\n",
      "색감\n",
      "화면과 비슷해요\n",
      "정보\n",
      "165cm54kg상의 66\n",
      "옵션\n",
      "[TT037] 보들쫀쫀 끈나시_단가라FREE 직진\n",
      "사이즈\n",
      "정사이즈예요\n",
      "퀄리티\n",
      "아주 만족해요\n",
      "색감\n",
      "화면과 비슷해요\n",
      "옵션\n",
      "[TT037] 보들쫀쫀 끈나시_그레이(골지)FREE 직진\n",
      "사이즈\n",
      "정사이즈예요\n",
      "퀄리티\n",
      "아주 만족해요\n",
      "색감\n",
      "화면과 비슷해요\n"
     ]
    }
   ],
   "source": [
    "## 지그재그 리뷰는 일단 되는듯\n",
    "\n",
    "with webdriver.Chrome(service=Service(ChromeDriverManager().install())) as driver:\n",
    "    driver.get(\"https://zigzag.kr/review/list/111217060\")\n",
    "    actions = driver.find_element(By.CSS_SELECTOR, 'body')\n",
    "    actions.send_keys(Keys.END)\n",
    "    driver.implicitly_wait(1)\n",
    "    actions.send_keys(Keys.END)\n",
    "    driver.implicitly_wait(1)\n",
    "    actions.send_keys(Keys.END)\n",
    "    driver.implicitly_wait(1)\n",
    "    actions.send_keys(Keys.END)\n",
    "    driver.implicitly_wait(1)\n",
    "    actions.send_keys(Keys.END)\n",
    "    driver.implicitly_wait(1)\n",
    "    \n",
    "    wait = WebDriverWait(driver, 10)\n",
    "\n",
    "    # p = wait.until(EC.presence_of_element_located((By.CLASS_NAME, 'css-1r5ocs1 ej5yuks0')))\n",
    "\n",
    "    for i in range(1, 11):\n",
    "        p = wait.until(EC.presence_of_element_located((By.XPATH, f'/html/body/div/div[1]/div/div/div/div[2]/div/div/section/div[{i}]/div[1]/div[3]/div[1]')))\n",
    "        "
   ]
  },
  {
   "cell_type": "code",
   "execution_count": null,
   "metadata": {},
   "outputs": [],
   "source": []
  },
  {
   "cell_type": "code",
   "execution_count": 70,
   "metadata": {},
   "outputs": [
    {
     "name": "stdout",
     "output_type": "stream",
     "text": [
      "[빅사이즈추가/워터밤][16만장돌파] 옆셔링 캡내장 슬리브리스\n",
      "41,700\n",
      "https://cf.product-image.s.zigzag.kr/original/d/2024/6/7/7416_202406071201310448_58975.jpeg?width=400&height=400&quality=80&format=webp\n"
     ]
    }
   ],
   "source": [
    "with webdriver.Chrome(service=Service(ChromeDriverManager().install())) as driver:\n",
    "    driver.get(\"https://zigzag.kr/catalog/products/112538672?tab=review\")\n",
    "    actions = driver.find_element(By.CSS_SELECTOR, 'body')\n",
    "    actions.send_keys(Keys.END)\n",
    "    driver.implicitly_wait(1)\n",
    "    \n",
    "    wait = WebDriverWait(driver, 10)\n",
    "\n",
    "    name = wait.until(EC.presence_of_element_located((By.CLASS_NAME, 'BODY_15.REGULAR.css-1qjogoj.e1wgb8lp0')))\n",
    "    print(name.text)\n",
    "\n",
    "    price = wait.until(EC.presence_of_element_located((By.CLASS_NAME, 'css-14j45be.eizm2tm0')))\n",
    "    print(price.text)\n",
    "\n",
    "    img_url = wait.until(EC.presence_of_element_located((By.CLASS_NAME, 'show-skeleton.css-12ywniv')))\n",
    "    print(img_url.find_element(By.TAG_NAME, 'picture').find_element(By.TAG_NAME, 'img').get_attribute('src'))"
   ]
  },
  {
   "cell_type": "code",
   "execution_count": 52,
   "metadata": {},
   "outputs": [
    {
     "name": "stdout",
     "output_type": "stream",
     "text": [
      "아이보리\n",
      "\t one size 13,900원\n",
      "\t L 17,900원\n"
     ]
    },
    {
     "ename": "StaleElementReferenceException",
     "evalue": "Message: stale element reference: stale element not found in the current frame\n  (Session info: chrome=126.0.6478.127); For documentation on this error, please visit: https://www.selenium.dev/documentation/webdriver/troubleshooting/errors#stale-element-reference-exception\nStacktrace:\n0   chromedriver                        0x0000000100d92a80 chromedriver + 4385408\n1   chromedriver                        0x0000000100d8b38c chromedriver + 4354956\n2   chromedriver                        0x00000001009a8b0c chromedriver + 281356\n3   chromedriver                        0x00000001009acfd8 chromedriver + 298968\n4   chromedriver                        0x00000001009aee58 chromedriver + 306776\n5   chromedriver                        0x00000001009aeed0 chromedriver + 306896\n6   chromedriver                        0x00000001009e62a0 chromedriver + 533152\n7   chromedriver                        0x00000001009e1734 chromedriver + 513844\n8   chromedriver                        0x0000000100a23d24 chromedriver + 785700\n9   chromedriver                        0x00000001009dfeec chromedriver + 507628\n10  chromedriver                        0x00000001009e08c4 chromedriver + 510148\n11  chromedriver                        0x0000000100d5a43c chromedriver + 4154428\n12  chromedriver                        0x0000000100d5eea0 chromedriver + 4173472\n13  chromedriver                        0x0000000100d3fff8 chromedriver + 4046840\n14  chromedriver                        0x0000000100d5f78c chromedriver + 4175756\n15  chromedriver                        0x0000000100d32fb8 chromedriver + 3993528\n16  chromedriver                        0x0000000100d7d21c chromedriver + 4297244\n17  chromedriver                        0x0000000100d7d398 chromedriver + 4297624\n18  chromedriver                        0x0000000100d8af84 chromedriver + 4353924\n19  libsystem_pthread.dylib             0x0000000189f82f94 _pthread_start + 136\n20  libsystem_pthread.dylib             0x0000000189f7dd34 thread_start + 8\n",
     "output_type": "error",
     "traceback": [
      "\u001b[0;31m---------------------------------------------------------------------------\u001b[0m",
      "\u001b[0;31mStaleElementReferenceException\u001b[0m            Traceback (most recent call last)",
      "Cell \u001b[0;32mIn[52], line 16\u001b[0m\n\u001b[1;32m     14\u001b[0m \u001b[38;5;28;01mfor\u001b[39;00m color_tag \u001b[38;5;129;01min\u001b[39;00m color_list:\n\u001b[1;32m     15\u001b[0m     time\u001b[38;5;241m.\u001b[39msleep(\u001b[38;5;241m0.01\u001b[39m)\n\u001b[0;32m---> 16\u001b[0m     color \u001b[38;5;241m=\u001b[39m \u001b[43mcolor_tag\u001b[49m\u001b[38;5;241;43m.\u001b[39;49m\u001b[43mtext\u001b[49m\n\u001b[1;32m     17\u001b[0m     color_tag\u001b[38;5;241m.\u001b[39mclick()\n\u001b[1;32m     18\u001b[0m     time\u001b[38;5;241m.\u001b[39msleep(\u001b[38;5;241m1\u001b[39m)\n",
      "File \u001b[0;32m~/miniforge3/envs/otto/lib/python3.10/site-packages/selenium/webdriver/remote/webelement.py:90\u001b[0m, in \u001b[0;36mWebElement.text\u001b[0;34m(self)\u001b[0m\n\u001b[1;32m     87\u001b[0m \u001b[38;5;129m@property\u001b[39m\n\u001b[1;32m     88\u001b[0m \u001b[38;5;28;01mdef\u001b[39;00m \u001b[38;5;21mtext\u001b[39m(\u001b[38;5;28mself\u001b[39m) \u001b[38;5;241m-\u001b[39m\u001b[38;5;241m>\u001b[39m \u001b[38;5;28mstr\u001b[39m:\n\u001b[1;32m     89\u001b[0m \u001b[38;5;250m    \u001b[39m\u001b[38;5;124;03m\"\"\"The text of the element.\"\"\"\u001b[39;00m\n\u001b[0;32m---> 90\u001b[0m     \u001b[38;5;28;01mreturn\u001b[39;00m \u001b[38;5;28;43mself\u001b[39;49m\u001b[38;5;241;43m.\u001b[39;49m\u001b[43m_execute\u001b[49m\u001b[43m(\u001b[49m\u001b[43mCommand\u001b[49m\u001b[38;5;241;43m.\u001b[39;49m\u001b[43mGET_ELEMENT_TEXT\u001b[49m\u001b[43m)\u001b[49m[\u001b[38;5;124m\"\u001b[39m\u001b[38;5;124mvalue\u001b[39m\u001b[38;5;124m\"\u001b[39m]\n",
      "File \u001b[0;32m~/miniforge3/envs/otto/lib/python3.10/site-packages/selenium/webdriver/remote/webelement.py:395\u001b[0m, in \u001b[0;36mWebElement._execute\u001b[0;34m(self, command, params)\u001b[0m\n\u001b[1;32m    393\u001b[0m     params \u001b[38;5;241m=\u001b[39m {}\n\u001b[1;32m    394\u001b[0m params[\u001b[38;5;124m\"\u001b[39m\u001b[38;5;124mid\u001b[39m\u001b[38;5;124m\"\u001b[39m] \u001b[38;5;241m=\u001b[39m \u001b[38;5;28mself\u001b[39m\u001b[38;5;241m.\u001b[39m_id\n\u001b[0;32m--> 395\u001b[0m \u001b[38;5;28;01mreturn\u001b[39;00m \u001b[38;5;28;43mself\u001b[39;49m\u001b[38;5;241;43m.\u001b[39;49m\u001b[43m_parent\u001b[49m\u001b[38;5;241;43m.\u001b[39;49m\u001b[43mexecute\u001b[49m\u001b[43m(\u001b[49m\u001b[43mcommand\u001b[49m\u001b[43m,\u001b[49m\u001b[43m \u001b[49m\u001b[43mparams\u001b[49m\u001b[43m)\u001b[49m\n",
      "File \u001b[0;32m~/miniforge3/envs/otto/lib/python3.10/site-packages/selenium/webdriver/remote/webdriver.py:354\u001b[0m, in \u001b[0;36mWebDriver.execute\u001b[0;34m(self, driver_command, params)\u001b[0m\n\u001b[1;32m    352\u001b[0m response \u001b[38;5;241m=\u001b[39m \u001b[38;5;28mself\u001b[39m\u001b[38;5;241m.\u001b[39mcommand_executor\u001b[38;5;241m.\u001b[39mexecute(driver_command, params)\n\u001b[1;32m    353\u001b[0m \u001b[38;5;28;01mif\u001b[39;00m response:\n\u001b[0;32m--> 354\u001b[0m     \u001b[38;5;28;43mself\u001b[39;49m\u001b[38;5;241;43m.\u001b[39;49m\u001b[43merror_handler\u001b[49m\u001b[38;5;241;43m.\u001b[39;49m\u001b[43mcheck_response\u001b[49m\u001b[43m(\u001b[49m\u001b[43mresponse\u001b[49m\u001b[43m)\u001b[49m\n\u001b[1;32m    355\u001b[0m     response[\u001b[38;5;124m\"\u001b[39m\u001b[38;5;124mvalue\u001b[39m\u001b[38;5;124m\"\u001b[39m] \u001b[38;5;241m=\u001b[39m \u001b[38;5;28mself\u001b[39m\u001b[38;5;241m.\u001b[39m_unwrap_value(response\u001b[38;5;241m.\u001b[39mget(\u001b[38;5;124m\"\u001b[39m\u001b[38;5;124mvalue\u001b[39m\u001b[38;5;124m\"\u001b[39m, \u001b[38;5;28;01mNone\u001b[39;00m))\n\u001b[1;32m    356\u001b[0m     \u001b[38;5;28;01mreturn\u001b[39;00m response\n",
      "File \u001b[0;32m~/miniforge3/envs/otto/lib/python3.10/site-packages/selenium/webdriver/remote/errorhandler.py:229\u001b[0m, in \u001b[0;36mErrorHandler.check_response\u001b[0;34m(self, response)\u001b[0m\n\u001b[1;32m    227\u001b[0m         alert_text \u001b[38;5;241m=\u001b[39m value[\u001b[38;5;124m\"\u001b[39m\u001b[38;5;124malert\u001b[39m\u001b[38;5;124m\"\u001b[39m]\u001b[38;5;241m.\u001b[39mget(\u001b[38;5;124m\"\u001b[39m\u001b[38;5;124mtext\u001b[39m\u001b[38;5;124m\"\u001b[39m)\n\u001b[1;32m    228\u001b[0m     \u001b[38;5;28;01mraise\u001b[39;00m exception_class(message, screen, stacktrace, alert_text)  \u001b[38;5;66;03m# type: ignore[call-arg]  # mypy is not smart enough here\u001b[39;00m\n\u001b[0;32m--> 229\u001b[0m \u001b[38;5;28;01mraise\u001b[39;00m exception_class(message, screen, stacktrace)\n",
      "\u001b[0;31mStaleElementReferenceException\u001b[0m: Message: stale element reference: stale element not found in the current frame\n  (Session info: chrome=126.0.6478.127); For documentation on this error, please visit: https://www.selenium.dev/documentation/webdriver/troubleshooting/errors#stale-element-reference-exception\nStacktrace:\n0   chromedriver                        0x0000000100d92a80 chromedriver + 4385408\n1   chromedriver                        0x0000000100d8b38c chromedriver + 4354956\n2   chromedriver                        0x00000001009a8b0c chromedriver + 281356\n3   chromedriver                        0x00000001009acfd8 chromedriver + 298968\n4   chromedriver                        0x00000001009aee58 chromedriver + 306776\n5   chromedriver                        0x00000001009aeed0 chromedriver + 306896\n6   chromedriver                        0x00000001009e62a0 chromedriver + 533152\n7   chromedriver                        0x00000001009e1734 chromedriver + 513844\n8   chromedriver                        0x0000000100a23d24 chromedriver + 785700\n9   chromedriver                        0x00000001009dfeec chromedriver + 507628\n10  chromedriver                        0x00000001009e08c4 chromedriver + 510148\n11  chromedriver                        0x0000000100d5a43c chromedriver + 4154428\n12  chromedriver                        0x0000000100d5eea0 chromedriver + 4173472\n13  chromedriver                        0x0000000100d3fff8 chromedriver + 4046840\n14  chromedriver                        0x0000000100d5f78c chromedriver + 4175756\n15  chromedriver                        0x0000000100d32fb8 chromedriver + 3993528\n16  chromedriver                        0x0000000100d7d21c chromedriver + 4297244\n17  chromedriver                        0x0000000100d7d398 chromedriver + 4297624\n18  chromedriver                        0x0000000100d8af84 chromedriver + 4353924\n19  libsystem_pthread.dylib             0x0000000189f82f94 _pthread_start + 136\n20  libsystem_pthread.dylib             0x0000000189f7dd34 thread_start + 8\n"
     ]
    }
   ],
   "source": [
    "with webdriver.Chrome(service=Service(ChromeDriverManager().install())) as driver:\n",
    "    driver.get(\"https://zigzag.kr/catalog/products/112538672?tab=review\")\n",
    "    actions = driver.find_element(By.CSS_SELECTOR, 'body')\n",
    "    actions.send_keys(Keys.END)\n",
    "    driver.implicitly_wait(1)\n",
    "    purchase_button = driver.find_element(By.CLASS_NAME, 'BODY_17.BOLD.css-hbld7k.e1yh52zv0')\n",
    "    ActionChains(driver).click(purchase_button).perform()\n",
    "    \n",
    "    wait = WebDriverWait(driver, 10)\n",
    "    color_table = wait.until(EC.presence_of_element_located((By.CLASS_NAME, 'css-0.e1u2d7n04')))\n",
    "    color_table_button = driver.find_element(By.CLASS_NAME, 'BODY_15.SEMIBOLD.css-utqis4.e1cn5bmz0')\n",
    "    color_list = color_table.find_elements(By.TAG_NAME, 'li')\n",
    "\n",
    "    for color_tag in color_list:\n",
    "        time.sleep(0.01)\n",
    "        color = color_tag.text\n",
    "        color_tag.click()\n",
    "        time.sleep(1)\n",
    "\n",
    "        size_list = wait.until(EC.presence_of_all_elements_located((By.CLASS_NAME, 'css-1ef2f7p.ehwmh5c10')))\n",
    "        print(color)\n",
    "\n",
    "        for size_tag in size_list:\n",
    "            size_info = size_tag.text\n",
    "            time.sleep(1)\n",
    "            size_info = size_info.split(\"\\n\")\n",
    "            size = size_info[0]\n",
    "            price = size_info[1]\n",
    "            print(\"\\t\", size, price)\n",
    "        \n",
    "        color_table_button.click()\n",
    "        color_table = wait.until(EC.presence_of_element_located((By.CLASS_NAME, 'css-0.e1u2d7n04')))\n",
    "        color_list = color_table.find_elements(By.TAG_NAME, 'li')\n",
    "\n",
    "        time.sleep(5)\n"
   ]
  },
  {
   "cell_type": "code",
   "execution_count": null,
   "metadata": {},
   "outputs": [],
   "source": []
  }
 ],
 "metadata": {
  "kernelspec": {
   "display_name": "otto",
   "language": "python",
   "name": "python3"
  },
  "language_info": {
   "codemirror_mode": {
    "name": "ipython",
    "version": 3
   },
   "file_extension": ".py",
   "mimetype": "text/x-python",
   "name": "python",
   "nbconvert_exporter": "python",
   "pygments_lexer": "ipython3",
   "version": "3.10.14"
  }
 },
 "nbformat": 4,
 "nbformat_minor": 2
}
