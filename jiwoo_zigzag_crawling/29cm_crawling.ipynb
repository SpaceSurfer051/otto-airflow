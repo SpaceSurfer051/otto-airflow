{
 "cells": [
  {
   "cell_type": "code",
   "execution_count": 1,
   "metadata": {},
   "outputs": [],
   "source": [
    "from selenium import webdriver\n",
    "from selenium.webdriver.common.by import By\n",
    "from selenium.webdriver.chrome.service import Service\n",
    "from selenium.webdriver.support.ui import WebDriverWait\n",
    "from selenium.webdriver.support import expected_conditions as EC\n",
    "from selenium.common.exceptions import NoSuchElementException, TimeoutException\n",
    "from webdriver_manager.chrome import ChromeDriverManager\n",
    "from selenium.webdriver.common.keys import Keys\n",
    "from selenium.webdriver.chrome.options import Options\n",
    "\n",
    "import time\n",
    "import pandas as pd"
   ]
  },
  {
   "cell_type": "code",
   "execution_count": 11,
   "metadata": {},
   "outputs": [
    {
     "name": "stdout",
     "output_type": "stream",
     "text": [
      "https://img.29cm.co.kr/next-product/2024/07/16/7255d1f66d104c4ca67abb014a60c5d2_20240716153948.jpg?width=120\n",
      "https://img.29cm.co.kr/next-product/2024/07/16/238e56d90f5b4b1684d0a1fdd67d1910_20240716100243.jpg?width=120\n",
      "https://img.29cm.co.kr/next-product/2024/07/15/09b6b4c0fc77400d805c781937433c9a_20240715231751.jpeg?width=120\n",
      "https://img.29cm.co.kr/next-product/2024/07/15/b8687a010b2245cc99186d550211958f_20240715230324.jpg?width=120\n",
      "https://img.29cm.co.kr/next-product/2024/07/15/f5b96cbf2de74d61af03028d91e581e4_20240715230226.jpeg?width=120\n",
      "https://img.29cm.co.kr/next-product/2024/07/15/d017983c5c9a46ff818c07f71ce5ee6f_20240715215510.jpg?width=120\n",
      "https://img.29cm.co.kr/next-product/2024/07/15/e41a9da113f64359b52d5675eeb33247_20240715201501.jpeg?width=120\n",
      "https://img.29cm.co.kr/next-product/2024/07/15/12cfc20d3ada4f39b1547f802d2996f7_20240715192031.jpeg?width=120\n",
      "https://img.29cm.co.kr/next-product/2024/07/15/d54c364839f24af7a25ea7a1f3901793_20240715175240.jpeg?width=120\n",
      "https://img.29cm.co.kr/next-product/2024/07/15/81f2e3deeefd4f6392b7122e9e4c3696_20240715171137.jpeg?width=120\n",
      "https://img.29cm.co.kr/next-product/2024/07/15/803201d7079241ee82520c69406cc4af_20240715170558.jpeg?width=120\n",
      "https://img.29cm.co.kr/next-product/2024/07/15/c218fb4a1fdd4b01b92bccaaf88235c0_20240715155408.jpeg?width=120\n",
      "https://img.29cm.co.kr/next-product/2024/07/15/e41736d2f34f41e2a1e044b58a4a6fb3_20240715153313.jpeg?width=120\n",
      "https://img.29cm.co.kr/next-product/2024/07/15/c25a5d167ad9411dae51aa482f945ec7_20240715011300.jpg?width=120\n",
      "https://img.29cm.co.kr/next-product/2024/07/14/1938ddd6005343d282295618cd835068_20240714214725.jpg?width=120\n",
      "https://img.29cm.co.kr/next-product/2024/07/14/8df244ee7abe495692de23fe6194edfe_20240714161532.jpeg?width=120\n",
      "https://img.29cm.co.kr/next-product/2024/07/14/25de37f8a2a24e42a315c9efacfc1670_20240714160406.jpeg?width=120\n",
      "https://img.29cm.co.kr/next-product/2024/07/14/cb561ebcb8534e5f923184b322c5afb6_20240714130204.jpeg?width=120\n",
      "https://img.29cm.co.kr/next-product/2024/07/14/e61662eb71404a5391e244b83ad245fd_20240714120240.jpg?width=120\n",
      "https://img.29cm.co.kr/next-product/2024/07/14/d9ee60ef7c414234ace338c04d30fb9b_20240714101853.jpg?width=120\n",
      "https://img.29cm.co.kr/next-product/2024/07/14/287b5aec61cc4f81a4c2c7c95e748251_20240714083406.jpeg?width=120\n",
      "https://img.29cm.co.kr/next-product/2024/07/14/32b0fccf17714acfbe450ce55e0610ae_20240714015457.jpeg?width=120\n",
      "https://img.29cm.co.kr/next-product/2024/07/13/b91701fe04c74d3c82ac75da36f99437_20240713230311.jpeg?width=120\n",
      "https://img.29cm.co.kr/next-product/2024/07/13/c1020391fce44658b7448ed9138ee991_20240713201349.jpg?width=120\n",
      "https://img.29cm.co.kr/next-product/2024/07/13/d72b40c48c8b41e9a6f714d9181fcd46_20240713171103.jpeg?width=120\n",
      "https://img.29cm.co.kr/next-product/2024/07/13/59c5a06c87ba4162af16ca2c619a021d_20240713145019.jpg?width=120\n",
      "https://img.29cm.co.kr/next-product/2024/07/13/edd3c8c0c7f94713875d54a95ce1b799_20240713112338.jpeg?width=120\n",
      "https://img.29cm.co.kr/next-product/2024/07/13/5ab2be398985417d9adfb001038478db_20240713092845.jpg?width=120\n",
      "https://img.29cm.co.kr/next-product/2024/07/12/ca2ae4c83d62495ea157403765e5606f_20240712220747.jpeg?width=120\n",
      "https://img.29cm.co.kr/next-product/2024/07/12/255d06edd7924945b12a11a87e3bebeb_20240712215437.jpeg?width=120\n"
     ]
    }
   ],
   "source": [
    "with webdriver.Chrome(service=Service(ChromeDriverManager().install())) as driver:\n",
    "    driver.get(\"https://product.29cm.co.kr/catalog/2595413?source=collection&source_content_no=7563&source_content_title=%EC%85%94%EC%B8%A0%EB%B6%80%ED%84%B0+%EC%8A%AC%EB%9E%99%EC%8A%A4%EA%B9%8C%EC%A7%80\")\n",
    "    actions = driver.find_element(By.CSS_SELECTOR, 'body')\n",
    "    actions.send_keys(Keys.END)\n",
    "    driver.implicitly_wait(1)\n",
    "    \n",
    "    wait = WebDriverWait(driver, 10)\n",
    "\n",
    "    photo_review_list = wait.until(EC.presence_of_element_located((By.CLASS_NAME, 'css-12192rx.e1l0bx3l0')))\n",
    "    photo_review = photo_review_list.find_element(By.TAG_NAME, 'div').find_element(By.TAG_NAME, 'div').find_element(By.TAG_NAME, 'div').find_element(By.TAG_NAME, 'ul')\n",
    "\n",
    "\n",
    "    review_list = photo_review.find_elements(By.TAG_NAME, 'li')\n",
    "    for review in review_list:\n",
    "        p = review.find_element(By.TAG_NAME, 'div').find_element(By.TAG_NAME, 'div').find_element(By.TAG_NAME, 'img')\n",
    "        print(p.get_attribute('src'))"
   ]
  },
  {
   "cell_type": "code",
   "execution_count": 15,
   "metadata": {},
   "outputs": [
    {
     "name": "stdout",
     "output_type": "stream",
     "text": [
      "선물했는데 받은 사람이랑 너무 잘 어울리고 예쁘네요! 키 커도 마른 편이면 S 잘 맞는 것 같아요~\n",
      "원단이나 핏이 죽입니다.오랜전부터 자주 입은브랜드라 앞으로도 많이 구매하겠습니다!잘입을게요\n",
      "화면상이랑 동일하게 여리여리하니 예뻐요 굿굿\n",
      "친구 생일선물로 줬는데 마음에 들어해서 다행이에요>< 꽃 자수도 예쁘고 여름에 시원하게 입기좋을거같아서 샀어요\n",
      "생각보다 퀄리티가 나쁘지 않아서 좋았어요. 사이즈도 55인데 적당히 이쁘게 핏 되는데 제가 팔뚝에 살이 좀 있는 편인데 팔 부분 고무줄이 좀 타이트 하긴 해요. 팔뚝 살이 없으신 분들이 입으면 더 이쁠 것 같아요.\n",
      "처음에는 어깨뽕이 과한 것 같았는데 입다보니까 어깨가 포인트돼서 예뻤어요! 색감에 펀칭 디자인, 적당한 두께에 한여름에 입기 좋아요 :)\n",
      "퍼프가 커용 어깨가 넓어보여용ㅠ\n",
      "3만원 초반 금액에 이렇게 예쁘기 있시없기!! 가성비 끝판왕도 모자라서 예쁘고 귀엽고 혼자 열일하는 블라우스입니다. 펀칭이 귀엽고 요즘 유행하는 스탈이라 바지에도 스커트에도 다아 이뻐요!! 안 살 이유 찾기가 더 힘드네여 검은색은 안나오나요??\n",
      "펀칭 블라우스라서 귀여우면서도 여성스러운 느낌이 나서 좋아요 소매 고무줄이 딱 맞아서 m사이즈 사도 잘 맞았을거 같아요ㅎㅎ\n",
      "여름에 입기 딱이에요 이뻐요\n",
      "생각보다 고무줄이 짱짱해서 팔뚝과 허리 부분이 불편했어요ㅠ 그리고 입었을 때 양쪽 어깨 볼륨? 부분의 모양이 일정하지 않았어요,,\n",
      "생각보가 팔뚝이 딱 맞기는 했지먼,, 이건 뭐 사람마다 다를 거 같구요~! 여성스러운 핏을 아주 자연스럽게 연출 해줘서 넘 예쁘더라구여~! 길이는 173 기준 허리라인보다 살짝 위에 딱 맞습니다\n",
      "배송 당일배송으로 빨랐구요 요즘 블라우스 가격이 다 비싼편인데 가격이 합리적이에요! 소재도 얇은편이라 지금 입기 딱 좋아요\n",
      "가격 좋아요 분위기 러블리해짐!\n",
      "172/63 기준입니다! 제가 팔뚝살 부자라 팔이 아주 따악 맞는데요 ㅠㅠ 옷은 아무 잘못 없어요 ㅋㅋㅋ ㅠㅠ 옷은 예뻐요\n",
      "어깨가 엄청 커버여서 첨엔 입을수 있을라나 햐ㅛ는데 생각보다 그 나름대로 이쁘고 잘샀다 샹각이 드네요 ㅎㅎ\n",
      "친구 선물로 구매하였는데 친구가 좋아했어요\n",
      "무난하게 입기 좋고 시원한 소재라서 좋아요\n",
      "너무너무 귀여워요. 감사 감사합니다\n",
      "블랙 입고 맘에 들어서 흰색도 구입했어요. 이브랜드 옷 개미지옥 이에요. 소재 디자인 대비 가격이 정말 좋아서 연달아 5개 구매중입니다. 참고로 전 금방질려해서 같은 브랜드 비슷한 제품을 이렇게 구매한건 처음이에요\n"
     ]
    }
   ],
   "source": [
    "with webdriver.Chrome(service=Service(ChromeDriverManager().install())) as driver:\n",
    "    driver.get(\"https://product.29cm.co.kr/catalog/2595413?source=collection&source_content_no=7563&source_content_title=%EC%85%94%EC%B8%A0%EB%B6%80%ED%84%B0+%EC%8A%AC%EB%9E%99%EC%8A%A4%EA%B9%8C%EC%A7%80\")\n",
    "    actions = driver.find_element(By.CSS_SELECTOR, 'body')\n",
    "    actions.send_keys(Keys.END)\n",
    "    driver.implicitly_wait(1)\n",
    "    \n",
    "    wait = WebDriverWait(driver, 10)\n",
    "\n",
    "    review_list = wait.until(EC.presence_of_all_elements_located((By.CLASS_NAME, 'css-31l7gp.eji1c1x1')))\n",
    "    for review in review_list:\n",
    "        p = review.find_element(By.TAG_NAME, 'p')\n",
    "        print(p.text)\n",
    "\n"
   ]
  },
  {
   "cell_type": "code",
   "execution_count": null,
   "metadata": {},
   "outputs": [],
   "source": []
  }
 ],
 "metadata": {
  "kernelspec": {
   "display_name": "otto",
   "language": "python",
   "name": "python3"
  },
  "language_info": {
   "codemirror_mode": {
    "name": "ipython",
    "version": 3
   },
   "file_extension": ".py",
   "mimetype": "text/x-python",
   "name": "python",
   "nbconvert_exporter": "python",
   "pygments_lexer": "ipython3",
   "version": "3.10.14"
  }
 },
 "nbformat": 4,
 "nbformat_minor": 2
}
