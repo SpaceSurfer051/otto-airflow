{
 "cells": [
  {
   "cell_type": "code",
   "execution_count": 24,
   "metadata": {},
   "outputs": [
    {
     "name": "stdout",
     "output_type": "stream",
     "text": [
      "Collecting boto3\n",
      "  Using cached boto3-1.34.145-py3-none-any.whl.metadata (6.6 kB)\n",
      "Requirement already satisfied: botocore in c:\\users\\dldud\\appdata\\local\\programs\\python\\python311\\lib\\site-packages (1.34.29)\n",
      "Collecting s3transfer\n",
      "  Using cached s3transfer-0.10.2-py3-none-any.whl.metadata (1.7 kB)\n",
      "Collecting botocore\n",
      "  Using cached botocore-1.34.145-py3-none-any.whl.metadata (5.7 kB)\n",
      "Requirement already satisfied: jmespath<2.0.0,>=0.7.1 in c:\\users\\dldud\\appdata\\local\\programs\\python\\python311\\lib\\site-packages (from boto3) (0.10.0)\n",
      "Requirement already satisfied: python-dateutil<3.0.0,>=2.1 in c:\\users\\dldud\\appdata\\roaming\\python\\python311\\site-packages (from botocore) (2.8.2)\n",
      "Requirement already satisfied: urllib3!=2.2.0,<3,>=1.25.4 in c:\\users\\dldud\\appdata\\roaming\\python\\python311\\site-packages (from botocore) (1.26.18)\n",
      "Requirement already satisfied: six>=1.5 in c:\\users\\dldud\\appdata\\roaming\\python\\python311\\site-packages (from python-dateutil<3.0.0,>=2.1->botocore) (1.16.0)\n",
      "Using cached boto3-1.34.145-py3-none-any.whl (139 kB)\n",
      "Using cached botocore-1.34.145-py3-none-any.whl (12.4 MB)\n",
      "Using cached s3transfer-0.10.2-py3-none-any.whl (82 kB)\n",
      "Installing collected packages: botocore, s3transfer, boto3\n",
      "  Attempting uninstall: botocore\n",
      "    Found existing installation: botocore 1.34.29\n",
      "    Uninstalling botocore-1.34.29:\n",
      "      Successfully uninstalled botocore-1.34.29\n",
      "Successfully installed boto3-1.34.145 botocore-1.34.145 s3transfer-0.10.2\n",
      "Note: you may need to restart the kernel to use updated packages.\n"
     ]
    },
    {
     "name": "stderr",
     "output_type": "stream",
     "text": [
      "ERROR: pip's dependency resolver does not currently take into account all the packages that are installed. This behaviour is the source of the following dependency conflicts.\n",
      "awsebcli 3.20.10 requires botocore<1.32.0,>1.23.41, but you have botocore 1.34.145 which is incompatible.\n",
      "\n",
      "[notice] A new release of pip is available: 24.0 -> 24.1.2\n",
      "[notice] To update, run: python.exe -m pip install --upgrade pip\n"
     ]
    }
   ],
   "source": [
    "pip install boto3 botocore s3transfer"
   ]
  },
  {
   "cell_type": "code",
   "execution_count": null,
   "metadata": {},
   "outputs": [],
   "source": []
  },
  {
   "cell_type": "code",
   "execution_count": 25,
   "metadata": {},
   "outputs": [],
   "source": [
    "import boto3\n",
    "import pandas as pd\n",
    "import io\n",
    "\n",
    "# AWS S3 버킷 정보\n",
    "bucket_name = 'papalio-test-bucket'\n",
    "file_key = 'test_otto/products_with_size_color.csv'\n",
    "\n",
    "# S3 클라이언트 생성\n",
    "s3 = boto3.client('s3')\n",
    "\n",
    "# S3에서 CSV 파일 다운로드\n",
    "try:\n",
    "    response = s3.get_object(Bucket=bucket_name, Key=file_key)\n",
    "    content = response['Body'].read().decode('utf-8')\n",
    "    \n",
    "    # CSV 내용을 데이터프레임으로 변환\n",
    "    df = pd.read_csv(io.StringIO(content))\n",
    "    \n",
    "    # 데이터프레임 출력\n",
    "    #print(df)\n",
    "    #df csv파일로 만들기\n",
    "    \n",
    "except Exception as e:\n",
    "    print(f\"Error reading S3 object: {e}\")\n"
   ]
  },
  {
   "cell_type": "code",
   "execution_count": 26,
   "metadata": {},
   "outputs": [],
   "source": [
    "import boto3\n",
    "import pandas as pd\n",
    "import io\n",
    "import re\n",
    "#production preprocessing\n",
    "df['product_id'] = df.index.to_series().apply(lambda x: f'top_{x}')\n",
    "# price 열의 데이터를 전처리\n",
    "for i in range(len(df)):\n",
    "    price_value = df.loc[i, 'price']\n",
    "    # 빈칸을 기준으로 앞부분만 남기고 나머지 제거\n",
    "    price_value = price_value.split(' ')[0]\n",
    "    # 숫자와 쉼표만 남기기\n",
    "    price_value = re.sub(r'[^\\d,]', '', price_value)\n",
    "    df.loc[i, 'price'] = price_value\n",
    "\n"
   ]
  },
  {
   "cell_type": "code",
   "execution_count": 27,
   "metadata": {},
   "outputs": [],
   "source": [
    "import pandas as pd\n",
    "\n",
    "# Assuming df is already loaded\n",
    "\n",
    "colors = [\n",
    "    \"다크그레이\", \"다크네이비\", \"다크베이지\", \"라임\", \"로얄네이비\", \"브라운(품절)\", \"블랙\", \"아이보리\", \n",
    "    \"애쉬카키(품절)\", \"연그레이\", \"진카키(품절)\", \"크림\", \"레몬\", \"더스티오렌지\", \"터키블루\", \"다크그린\", \n",
    "    \"퍼플\", \"네이비\", \"라이트멜란지\", \"그레이\", \"그린\", \"잉크블루\", \"머스타드\", \"차콜\", \"블루그레이\", \n",
    "    \"구스그레이\", \"스톤그레이\", \"더스티민트\", \"멜란지\", \"애쉬블루\", \"화이트/화이트\", \"화이트/블랙\", \n",
    "    \"블랙/블랙\", \"BROWN\", \"블랙(품절)\", \"블루(품절)\", \"라이트 카키(품절)\", \"라이트 그레이(품절)\", \n",
    "    \"화이트(품절)\", \"퍼플\", \"올리브\", \"핑크\", \"옐로우\", \"민트\", \"오렌지\", \"마운틴그린\", \"백오트밀\", \n",
    "    \"크림\", \"틸블루\", \"페일퍼플\", \"Xsmall\",\n",
    "    \"모카 베이지\", \"라임\", \"로얄네이비\", \"브라운\", \"아이보리\", \"애쉬카키\", \"연그레이\", \"진카키\", \"크림\", \n",
    "    \"레몬\", \"더스티오렌지\", \"터키블루\", \"다크그린\", \"퍼플\", \"네이비\", \"라이트멜란지\", \"그레이\", \"그린\", \n",
    "    \"잉크블루\", \"머스타드\", \"차콜\", \"블루그레이\", \"구스그레이\", \"스톤그레이\", \"더스티민트\", \"멜란지\", \n",
    "    \"애쉬블루\", \"화이트/화이트\", \"화이트/블랙\", \"블랙/블랙\", \"BROWN\", \"블랙\", \"블루\", \"라이트 카키\", \n",
    "    \"라이트 그레이\", \"화이트\", \"올리브\", \"핑크\", \"옐로우\", \"민트\", \"오렌지\", \"마운틴그린\", \"백오트밀\", \n",
    "    \"크림\", \"틸블루\", \"페일퍼플\", \"Xsmall\"\n",
    "]\n",
    "\n",
    "def contains_color_option(size_options, colors):\n",
    "    for color in colors:\n",
    "        if color in size_options:\n",
    "            return True\n",
    "    return False\n",
    "\n",
    "for i in range(len(df)):\n",
    "    if contains_color_option(df.loc[i, 'size_options'], colors):\n",
    "        # Swap size_options and color_options\n",
    "        df.loc[i, 'size_options'], df.loc[i, 'color_options'] = df.loc[i, 'color_options'], df.loc[i, 'size_options']\n",
    "        \n",
    "#df = df.drop('size_options',axis=1)"
   ]
  },
  {
   "cell_type": "code",
   "execution_count": null,
   "metadata": {},
   "outputs": [],
   "source": []
  },
  {
   "cell_type": "code",
   "execution_count": 24,
   "metadata": {},
   "outputs": [],
   "source": [
    "df.to_csv(\"preprocessing_test.csv\", index=False, encoding='utf-8-sig')"
   ]
  }
 ],
 "metadata": {
  "kernelspec": {
   "display_name": "Python 3",
   "language": "python",
   "name": "python3"
  },
  "language_info": {
   "codemirror_mode": {
    "name": "ipython",
    "version": 3
   },
   "file_extension": ".py",
   "mimetype": "text/x-python",
   "name": "python",
   "nbconvert_exporter": "python",
   "pygments_lexer": "ipython3",
   "version": "3.11.5"
  }
 },
 "nbformat": 4,
 "nbformat_minor": 2
}
